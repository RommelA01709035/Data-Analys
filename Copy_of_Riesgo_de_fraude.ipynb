{
  "nbformat": 4,
  "nbformat_minor": 0,
  "metadata": {
    "colab": {
      "provenance": [],
      "authorship_tag": "ABX9TyN6R9qCGegWODqL0ipJEdTh",
      "include_colab_link": true
    },
    "kernelspec": {
      "name": "python3",
      "display_name": "Python 3"
    },
    "language_info": {
      "name": "python"
    }
  },
  "cells": [
    {
      "cell_type": "markdown",
      "metadata": {
        "id": "view-in-github",
        "colab_type": "text"
      },
      "source": [
        "<a href=\"https://colab.research.google.com/github/RommelA01709035/Data-Analys/blob/main/Copy_of_Riesgo_de_fraude.ipynb\" target=\"_parent\"><img src=\"https://colab.research.google.com/assets/colab-badge.svg\" alt=\"Open In Colab\"/></a>"
      ]
    },
    {
      "cell_type": "code",
      "execution_count": null,
      "metadata": {
        "id": "e0CineLGhqFA"
      },
      "outputs": [],
      "source": [
        "from sklearn.tree import DecisionTreeClassifier\n",
        "from sklearn.metrics import accuracy_score, confusion_matrix\n",
        "from sklearn.model_selection import train_test_split\n",
        "import pandas as pd\n",
        "\n",
        "# Cargamos los datos\n",
        "df = pd.read_csv('creditcard.csv')"
      ]
    },
    {
      "cell_type": "code",
      "source": [
        "\n",
        "\n",
        "# Eliminamos las filas que contienen NaN\n",
        "df = df.dropna()\n",
        "\n",
        "# Guardamos el DataFrame en un nuevo archivo CSV\n",
        "df.to_csv('creditcard.csv', index=False)"
      ],
      "metadata": {
        "id": "jqbjQ_vqmyAI"
      },
      "execution_count": null,
      "outputs": []
    },
    {
      "cell_type": "code",
      "source": [
        "\n",
        "# Preparamos los datos\n",
        "X = df.drop(['Time'], axis=1)\n",
        "y = df['Class']\n",
        "\n",
        "# Dividimos los datos en entrenamiento y prueba\n",
        "X_train, X_test, y_train, y_test = train_test_split(X, y, test_size=0.3, random_state=42)\n",
        "\n",
        "# Creamos el modelo y lo entrenamos\n",
        "modelo = DecisionTreeClassifier()\n",
        "modelo.fit(X_train, y_train)\n",
        "\n",
        "# Realizamos predicciones sobre el conjunto de prueba\n",
        "y_pred = modelo.predict(X_test)\n",
        "\n",
        "# Evaluamos la precisión del modelo\n",
        "print(\"Precisión del modelo:\", accuracy_score(y_test, y_pred))\n",
        "print(\"Matriz de confusión:\")\n",
        "print(confusion_matrix(y_test, y_pred))\n"
      ],
      "metadata": {
        "colab": {
          "base_uri": "https://localhost:8080/"
        },
        "id": "g8z1km6em5uC",
        "outputId": "cd39ca3f-6d8c-4ec3-a64d-8bc50502c4e1"
      },
      "execution_count": null,
      "outputs": [
        {
          "output_type": "stream",
          "name": "stdout",
          "text": [
            "Precisión del modelo: 1.0\n",
            "Matriz de confusión:\n",
            "[[85307     0]\n",
            " [    0   136]]\n"
          ]
        }
      ]
    }
  ]
}