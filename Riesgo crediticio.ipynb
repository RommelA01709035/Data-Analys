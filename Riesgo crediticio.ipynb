{
  "nbformat": 4,
  "nbformat_minor": 0,
  "metadata": {
    "colab": {
      "provenance": [],
      "authorship_tag": "ABX9TyMZ6kvuxJbE50a0R/GIXZSY",
      "include_colab_link": true
    },
    "kernelspec": {
      "name": "python3",
      "display_name": "Python 3"
    },
    "language_info": {
      "name": "python"
    }
  },
  "cells": [
    {
      "cell_type": "markdown",
      "metadata": {
        "id": "view-in-github",
        "colab_type": "text"
      },
      "source": [
        "<a href=\"https://colab.research.google.com/github/RommelA01709035/Data-Analys/blob/main/Riesgo%20crediticio.ipynb\" target=\"_parent\"><img src=\"https://colab.research.google.com/assets/colab-badge.svg\" alt=\"Open In Colab\"/></a>"
      ]
    },
    {
      "cell_type": "code",
      "source": [
        "from sklearn.linear_model import LogisticRegression\n",
        "from sklearn.metrics import accuracy_score, confusion_matrix\n",
        "from sklearn.model_selection import train_test_split\n",
        "import pandas as pd\n",
        "\n",
        "# Cargamos los datos\n",
        "df = pd.read_csv('original.csv')\n"
      ],
      "metadata": {
        "id": "a4Q0GT4NXNVW"
      },
      "execution_count": 4,
      "outputs": []
    },
    {
      "cell_type": "code",
      "execution_count": 5,
      "metadata": {
        "id": "5y0AtiI4XBov"
      },
      "outputs": [],
      "source": [
        "\n",
        "# Eliminamos las filas que contienen NaN\n",
        "df = df.dropna()\n",
        "\n",
        "# Guardamos el DataFrame en un nuevo archivo CSV\n",
        "df.to_csv('original.csv', index=False)"
      ]
    },
    {
      "cell_type": "markdown",
      "source": [
        "# Riesgo crediticio Ingresos y Default"
      ],
      "metadata": {
        "id": "aXj-MOaEY__j"
      }
    },
    {
      "cell_type": "code",
      "source": [
        "\n",
        "# Preparamos los datos\n",
        "X = df.drop(['income'], axis=1)\n",
        "y = df['default']\n",
        "\n",
        "# Dividimos los datos en entrenamiento y prueba\n",
        "X_train, X_test, y_train, y_test = train_test_split(X, y, test_size=0.3, random_state=42)\n",
        "\n",
        "# Creamos el modelo y lo entrenamos\n",
        "modelo = LogisticRegression()\n",
        "modelo.fit(X_train, y_train)\n",
        "\n",
        "# Realizamos predicciones sobre el conjunto de prueba\n",
        "y_pred = modelo.predict(X_test)\n",
        "\n",
        "# Evaluamos la precisión del modelo\n",
        "print(\"Precisión del modelo:\", accuracy_score(y_test, y_pred))\n",
        "print(\"Matriz de confusión:\")\n",
        "print(confusion_matrix(y_test, y_pred))\n"
      ],
      "metadata": {
        "colab": {
          "base_uri": "https://localhost:8080/"
        },
        "id": "I6HEpdTaXZ1p",
        "outputId": "4aa1e52b-1e2c-4984-9513-8c3871f49831"
      },
      "execution_count": 9,
      "outputs": [
        {
          "output_type": "stream",
          "name": "stdout",
          "text": [
            "Precisión del modelo: 1.0\n",
            "Matriz de confusión:\n",
            "[[508   0]\n",
            " [  0  92]]\n"
          ]
        }
      ]
    },
    {
      "cell_type": "markdown",
      "source": [
        "#Riesgo crediticio loan y default"
      ],
      "metadata": {
        "id": "h-iUERKPbive"
      }
    },
    {
      "cell_type": "code",
      "source": [
        "\n",
        "# Preparamos los datos\n",
        "X = df.drop(['loan'], axis=1)\n",
        "y = df['default']\n",
        "\n",
        "# Dividimos los datos en entrenamiento y prueba\n",
        "X_train, X_test, y_train, y_test = train_test_split(X, y, test_size=0.3, random_state=42)\n",
        "\n",
        "# Creamos el modelo y lo entrenamos\n",
        "modelo = LogisticRegression()\n",
        "modelo.fit(X_train, y_train)\n",
        "\n",
        "# Realizamos predicciones sobre el conjunto de prueba\n",
        "y_pred = modelo.predict(X_test)\n",
        "\n",
        "# Evaluamos la precisión del modelo\n",
        "print(\"Precisión del modelo:\", accuracy_score(y_test, y_pred))\n",
        "print(\"Matriz de confusión:\")\n",
        "print(confusion_matrix(y_test, y_pred))"
      ],
      "metadata": {
        "colab": {
          "base_uri": "https://localhost:8080/"
        },
        "id": "xfFTPVqvY-pK",
        "outputId": "0bfd6e06-d9f6-4f78-8d9a-355fdedd19a5"
      },
      "execution_count": 10,
      "outputs": [
        {
          "output_type": "stream",
          "name": "stdout",
          "text": [
            "Precisión del modelo: 0.9983333333333333\n",
            "Matriz de confusión:\n",
            "[[507   1]\n",
            " [  0  92]]\n"
          ]
        }
      ]
    }
  ]
}