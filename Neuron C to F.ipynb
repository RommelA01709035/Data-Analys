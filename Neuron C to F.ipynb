{
  "nbformat": 4,
  "nbformat_minor": 0,
  "metadata": {
    "colab": {
      "provenance": []
    },
    "kernelspec": {
      "name": "python3",
      "display_name": "Python 3"
    },
    "language_info": {
      "name": "python"
    }
  },
  "cells": [
    {
      "cell_type": "markdown",
      "source": [
        "#Red neuronal"
      ],
      "metadata": {
        "id": "XndVZNrXze_2"
      }
    },
    {
      "cell_type": "code",
      "execution_count": 38,
      "metadata": {
        "id": "eBipG_mrxzej"
      },
      "outputs": [],
      "source": [
        "import tensorflow as tf\n",
        "import numpy as np\n"
      ]
    },
    {
      "cell_type": "markdown",
      "source": [
        "There are 2 arrays one with data train and the second with the answers"
      ],
      "metadata": {
        "id": "MikhqmK0YJm2"
      }
    },
    {
      "cell_type": "code",
      "source": [
        "celcius = np.array([0, 5, 10, 15, 20, 25, 30, 35, 40, 45, 50], dtype=float)\n",
        "fahrenheit = np.array([32, 41, 50, 59, 68, 77, 86, 95, 104, 113, 122], dtype = float)\n"
      ],
      "metadata": {
        "id": "URetY1_T13qt"
      },
      "execution_count": 274,
      "outputs": []
    },
    {
      "cell_type": "markdown",
      "source": [
        "Units means the number of neurons and shape is the number of entrys at this neuron. oculta 1 and oculta 2 are a layer. Modelo is the seuqencial model that conect those neurons in it's order"
      ],
      "metadata": {
        "id": "3oYYz0tvYTJ2"
      }
    },
    {
      "cell_type": "code",
      "source": [
        "#capa = tf.keras.layers.Dense(units = 1, input_shape=[1])\n",
        "#modelo = tf.keras.Sequential([capa])\n",
        "oculta1 = tf.keras.layers.Dense(units=3, input_shape=[1])\n",
        "oculta2 = tf.keras.layers.Dense(units=3)\n",
        "salida = tf.keras.layers.Dense(units=1)\n",
        "modelo = tf.keras.Sequential([oculta1, oculta2, salida])"
      ],
      "metadata": {
        "id": "ESLvnFc_2LD_"
      },
      "execution_count": 275,
      "outputs": []
    },
    {
      "cell_type": "markdown",
      "source": [
        "The model is compiled. The Adam optimizer is chosen with a learning rate of 0.1 and the \"mean squared error\" loss function."
      ],
      "metadata": {
        "id": "IB_1AD9_bNao"
      }
    },
    {
      "cell_type": "code",
      "source": [
        "modelo.compile(\n",
        "    optimizer=tf.keras.optimizers.Adam(0.1),\n",
        "    loss= 'mean_squared_error'\n",
        ")"
      ],
      "metadata": {
        "id": "LHgT_W-I2rSq"
      },
      "execution_count": 276,
      "outputs": []
    },
    {
      "cell_type": "markdown",
      "source": [
        "train the model with 800 iterations"
      ],
      "metadata": {
        "id": "qax5PwtybXbK"
      }
    },
    {
      "cell_type": "code",
      "source": [
        "print(\"entrena\")\n",
        "historial = modelo.fit(celcius, fahrenheit, epochs=800, verbose=False)\n",
        "print(\"entrenado el modelo\")"
      ],
      "metadata": {
        "colab": {
          "base_uri": "https://localhost:8080/"
        },
        "id": "higXpd_-27v9",
        "outputId": "9e4cd31b-b568-4d68-b533-ca67b70bc731"
      },
      "execution_count": 277,
      "outputs": [
        {
          "output_type": "stream",
          "name": "stdout",
          "text": [
            "entrena\n",
            "entrenado el modelo\n"
          ]
        }
      ]
    },
    {
      "cell_type": "markdown",
      "source": [
        "Grafic of wrong answers from the models"
      ],
      "metadata": {
        "id": "5ITpFgPbbexx"
      }
    },
    {
      "cell_type": "code",
      "source": [
        "import matplotlib.pyplot as plt\n",
        "plt.xlabel(\"# Epoca\")\n",
        "plt.ylabel(\"Magnitud perdida\")\n",
        "plt.plot(historial.history[\"loss\"])"
      ],
      "metadata": {
        "colab": {
          "base_uri": "https://localhost:8080/",
          "height": 466
        },
        "id": "l8vxJps429re",
        "outputId": "ea610127-0ecf-4d71-b5ee-25d5e8550dd1"
      },
      "execution_count": 278,
      "outputs": [
        {
          "output_type": "execute_result",
          "data": {
            "text/plain": [
              "[<matplotlib.lines.Line2D at 0x7b65f91136a0>]"
            ]
          },
          "metadata": {},
          "execution_count": 278
        },
        {
          "output_type": "display_data",
          "data": {
            "text/plain": [
              "<Figure size 640x480 with 1 Axes>"
            ],
            "image/png": "[encoded data removed]"
          },
          "metadata": {}
        }
      ]
    },
    {
      "cell_type": "markdown",
      "source": [
        "Try a value in the model, is correct but it has aproximity error"
      ],
      "metadata": {
        "id": "dFsQTS66cEMl"
      }
    },
    {
      "cell_type": "code",
      "source": [
        "print(\"Hagamos predicción\")\n",
        "resultado = modelo.predict([100.0])\n",
        "print(resultado)"
      ],
      "metadata": {
        "colab": {
          "base_uri": "https://localhost:8080/"
        },
        "id": "gfHDPUMh366d",
        "outputId": "3e269bbc-751f-4218-dbb3-0e8ccfb41fd2"
      },
      "execution_count": 285,
      "outputs": [
        {
          "output_type": "stream",
          "name": "stdout",
          "text": [
            "Hagamos predicción\n",
            "1/1 [==============================] - 0s 39ms/step\n",
            "[[212.00003]]\n"
          ]
        }
      ]
    }
  ]
}